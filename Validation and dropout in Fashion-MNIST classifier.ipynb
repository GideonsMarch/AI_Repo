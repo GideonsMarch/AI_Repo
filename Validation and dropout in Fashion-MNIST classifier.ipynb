{
 "cells": [
  {
   "cell_type": "code",
   "execution_count": 1,
   "metadata": {},
   "outputs": [],
   "source": [
    "import torch\n",
    "from torch import nn, optim\n",
    "import torch.nn.functional as F\n",
    "from torchvision import datasets, transforms\n",
    "import torch.nn as nn\n",
    "import matplotlib.pyplot as plt"
   ]
  },
  {
   "cell_type": "code",
   "execution_count": 2,
   "metadata": {},
   "outputs": [],
   "source": [
    "itemArray = [\"T-Shirt/Top\", \"Trouser\", \"Pull over\", \"Dress\", \"Coat\", \"Sandal\", \"Shirt\", \"Sneaker\", \"Bag\", \"Ankle Boot\"]"
   ]
  },
  {
   "cell_type": "code",
   "execution_count": 3,
   "metadata": {},
   "outputs": [],
   "source": [
    "transform = transforms.Compose([transforms.ToTensor(), transforms.Normalize((0.5, 0.5, 0.5), (0.5, 0.5, 0.5))])"
   ]
  },
  {
   "cell_type": "code",
   "execution_count": 4,
   "metadata": {},
   "outputs": [],
   "source": [
    "trainset = datasets.FashionMNIST(root = './mnist/data', download = True, train = True, transform = transform)\n",
    "testset = datasets.FashionMNIST(root = './mnist/data/Test', download = True, train = False, transform = transform)"
   ]
  },
  {
   "cell_type": "code",
   "execution_count": 5,
   "metadata": {},
   "outputs": [],
   "source": [
    "trainloader = torch.utils.data.DataLoader(trainset, batch_size = 64, shuffle = True)\n",
    "testloader = torch.utils.data.DataLoader(testset, batch_size = 64, shuffle = True)"
   ]
  },
  {
   "cell_type": "code",
   "execution_count": 6,
   "metadata": {},
   "outputs": [],
   "source": [
    "class Classifier(nn.Module):\n",
    "    def __init__(self):\n",
    "        super(Classifier, self).__init__()\n",
    "        self.fc1 = nn.Linear(784, 256)\n",
    "        self.fc2 = nn.Linear(256, 128)\n",
    "        self.fc3 = nn.Linear(128, 64)\n",
    "        self.fc4 = nn.Linear(64, 10)\n",
    "        \n",
    "        def forward(self, x):\n",
    "            x = F.relu(self.fc1(x))\n",
    "            x = F.relu(self.fc2(x))\n",
    "            x = F.relu(self.fc3(x))\n",
    "            x = F.log_softmax(self.fc4(x), dim = 1)\n",
    "            return x\n"
   ]
  },
  {
   "cell_type": "code",
   "execution_count": 7,
   "metadata": {},
   "outputs": [],
   "source": [
    "model = Classifier()\n",
    "criterion = nn.NLLLoss()\n",
    "optimizer = optim.Adam(model.parameters(), lr=0.003)"
   ]
  },
  {
   "cell_type": "code",
   "execution_count": 19,
   "metadata": {},
   "outputs": [
    {
     "name": "stdout",
     "output_type": "stream",
     "text": [
      "Epoch: 1/10\n",
      "Training loss: 0.259 Test Loss: 0.359...  Test Accuracy: 0.878\n",
      "Epoch: 2/10\n",
      "Training loss: 0.253 Test Loss: 0.374...  Test Accuracy: 0.871\n",
      "Epoch: 3/10\n",
      "Training loss: 0.252 Test Loss: 0.369...  Test Accuracy: 0.873\n",
      "Epoch: 4/10\n",
      "Training loss: 0.247 Test Loss: 0.360...  Test Accuracy: 0.878\n",
      "Epoch: 5/10\n",
      "Training loss: 0.238 Test Loss: 0.373...  Test Accuracy: 0.874\n",
      "Epoch: 6/10\n",
      "Training loss: 0.232 Test Loss: 0.370...  Test Accuracy: 0.876\n",
      "Epoch: 7/10\n",
      "Training loss: 0.227 Test Loss: 0.389...  Test Accuracy: 0.873\n",
      "Epoch: 8/10\n",
      "Training loss: 0.225 Test Loss: 0.375...  Test Accuracy: 0.880\n",
      "Epoch: 9/10\n",
      "Training loss: 0.224 Test Loss: 0.375...  Test Accuracy: 0.881\n",
      "Epoch: 10/10\n",
      "Training loss: 0.218 Test Loss: 0.391...  Test Accuracy: 0.883\n"
     ]
    }
   ],
   "source": [
    "epochs = 10\n",
    "steps = 0\n",
    "\n",
    "train_losses, test_losses = [], []\n",
    "\n",
    "for epoch in range(epochs):\n",
    "    running_loss = 0\n",
    "    for images, labels in trainloader:\n",
    "        images = images.view(images.shape[0], -1)\n",
    "\n",
    "        optimizer.zero_grad()\n",
    "\n",
    "        logps = model(images)\n",
    "        loss = criterion(logps, labels)\n",
    "\n",
    "        loss.backward()\n",
    "        optimizer.step()\n",
    "        \n",
    "        running_loss += loss.item()\n",
    "        \n",
    "    else:\n",
    "        test_loss = 0\n",
    "        accuracy = 0\n",
    "        \n",
    "        with torch.no_grad():\n",
    "            for images, labels in testloader:\n",
    "                images = images.view(images.shape[0], -1)\n",
    "                log_ps = model(images)\n",
    "                test_loss += criterion(log_ps, labels)\n",
    "                \n",
    "                ps = torch.exp(log_ps)\n",
    "                top_p, top_class = ps.topk(1, dim=1)\n",
    "                equals = top_class == labels.view(*top_class.shape)\n",
    "                accuracy += torch.mean(equals.type(torch.FloatTensor))\n",
    "                \n",
    "        train_losses.append(running_loss/len(trainloader))\n",
    "        test_losses.append(test_loss/len(testloader))\n",
    "        \n",
    "    print(\"Epoch: {}/{}\".format(epoch + 1, epochs))\n",
    "    print(\"Training loss: {:.3f}\".format(running_loss/len(trainloader)),\n",
    "          \"Test Loss: {:.3f}... \".format(test_loss/len(testloader)),\n",
    "          \"Test Accuracy: {:.3f}\".format(accuracy/len(testloader)))"
   ]
  },
  {
   "cell_type": "code",
   "execution_count": 20,
   "metadata": {},
   "outputs": [
    {
     "data": {
      "text/plain": [
       "<matplotlib.legend.Legend at 0x205e7271b70>"
      ]
     },
     "execution_count": 20,
     "metadata": {},
     "output_type": "execute_result"
    },
    {
     "data": {
      "image/png": "[encoded data removed]",
      "text/plain": [
       "<Figure size 432x288 with 1 Axes>"
      ]
     },
     "metadata": {
      "needs_background": "light"
     },
     "output_type": "display_data"
    }
   ],
   "source": [
    "plt.plot(train_losses, label='Training loss')\n",
    "plt.plot(test_losses, label = 'Test loss')\n",
    "plt.legend(frameon=False)"
   ]
  },
  {
   "cell_type": "code",
   "execution_count": 16,
   "metadata": {},
   "outputs": [
    {
     "name": "stdout",
     "output_type": "stream",
     "text": [
      "Model prediction: T-Shirt/Top, probability: 0.9999513626098633\n",
      "Model prediction using the topk method: T-Shirt/Top, probability: 0.9999513626098633\n"
     ]
    },
    {
     "data": {
      "image/png": "[encoded data removed]",
      "text/plain": [
       "<Figure size 432x288 with 1 Axes>"
      ]
     },
     "metadata": {
      "needs_background": "light"
     },
     "output_type": "display_data"
    }
   ],
   "source": [
    "imageTestBatch, labelTestBatch = next(iter(testloader))\n",
    "plt.imshow(imageTestBatch[0][0].numpy(), cmap='gray')\n",
    "\n",
    "predictionTest = model.forward(imageTestBatch[0].view(1, -1))\n",
    "\n",
    "with torch.no_grad():\n",
    "    ps = F.softmax(predictionTest, dim = 1)\n",
    "    \n",
    "    maximum = torch.max(ps)\n",
    "    itemIndex = (ps == maximum).nonzero()[0][1].item()\n",
    "    print(f\"Model prediction: {itemArray[itemIndex]}, probability: {maximum}\")\n",
    "    \n",
    "    result = ps.topk(1, dim=1) #Returns the top 1 value of the tensor. if 2 is used instead of 1, it returns the 2 highests.\n",
    "    print(f\"Model prediction using the topk method: {itemArray[result[1].item()]}, probability: {result[0].item()}\")\n",
    "    "
   ]
  },
  {
   "cell_type": "code",
   "execution_count": null,
   "metadata": {},
   "outputs": [],
   "source": []
  }
 ],
 "metadata": {
  "kernelspec": {
   "display_name": "Python 3",
   "language": "python",
   "name": "python3"
  },
  "language_info": {
   "codemirror_mode": {
    "name": "ipython",
    "version": 3
   },
   "file_extension": ".py",
   "mimetype": "text/x-python",
   "name": "python",
   "nbconvert_exporter": "python",
   "pygments_lexer": "ipython3",
   "version": "3.7.0"
  }
 },
 "nbformat": 4,
 "nbformat_minor": 2
}
