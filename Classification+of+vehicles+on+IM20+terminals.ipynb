{
  "nbformat": 4,
  "nbformat_minor": 0,
  "metadata": {
    "colab": {
      "name": "Classification+of+vehicles+on+IM20+terminals.ipynb",
      "provenance": [],
      "authorship_tag": "ABX9TyPBIawowpjJYuNMOQiyumtj",
      "include_colab_link": true
    },
    "kernelspec": {
      "name": "python3",
      "display_name": "Python 3"
    },
    "accelerator": "GPU"
  },
  "cells": [
    {
      "cell_type": "markdown",
      "metadata": {
        "id": "view-in-github",
        "colab_type": "text"
      },
      "source": [
        "<a href=\"https://colab.research.google.com/github/GideonsMarch/AI_Repo/blob/master/Classification%2Bof%2Bvehicles%2Bon%2BIM20%2Bterminals.ipynb\" target=\"_parent\"><img src=\"https://colab.research.google.com/assets/colab-badge.svg\" alt=\"Open In Colab\"/></a>"
      ]
    },
    {
      "cell_type": "code",
      "metadata": {
        "id": "zI2IZoVm73xI",
        "colab_type": "code",
        "colab": {}
      },
      "source": [
        ""
      ],
      "execution_count": 0,
      "outputs": []
    },
    {
      "cell_type": "markdown",
      "metadata": {
        "id": "symE1dMYQERd",
        "colab_type": "text"
      },
      "source": [
        "**Procedure**\n",
        "\n",
        "\n",
        "*   Take camera Capture every 2 seconds\n",
        "*   Classify the image\n",
        "*   Display the amount\n",
        "*   Process transaction\n",
        "\n",
        "**Corner cases**\n",
        "\n",
        "\n",
        "1.   Nights\n",
        "2.   Rainy conditions\n",
        "3.   New and Strange vehicles\n",
        "\n",
        "\n",
        "\n"
      ]
    },
    {
      "cell_type": "code",
      "metadata": {
        "id": "wKAW33S3KCIm",
        "colab_type": "code",
        "colab": {}
      },
      "source": [
        "import torch\n",
        "import torch.nn as nn\n",
        "import torch.optim as optim\n",
        "import torchvision.transforms as transforms\n",
        "import numpy as np"
      ],
      "execution_count": 0,
      "outputs": []
    },
    {
      "cell_type": "code",
      "metadata": {
        "id": "Jmygzo9_-WiD",
        "colab_type": "code",
        "colab": {}
      },
      "source": [
        "import matplotlib.pyplot as plt\n",
        "%matplotlib inline"
      ],
      "execution_count": 0,
      "outputs": []
    },
    {
      "cell_type": "code",
      "metadata": {
        "id": "vAMr1OWm-ero",
        "colab_type": "code",
        "colab": {}
      },
      "source": [
        ""
      ],
      "execution_count": 0,
      "outputs": []
    }
  ]
}