{
 "cells": [
  {
   "cell_type": "code",
   "execution_count": 2,
   "metadata": {},
   "outputs": [],
   "source": [
    "import torch\n",
    "from torch import nn, optim\n",
    "import torch.nn.functional as F\n",
    "from torchvision import datasets, transforms"
   ]
  },
  {
   "cell_type": "code",
   "execution_count": 3,
   "metadata": {},
   "outputs": [],
   "source": [
    "transform = transforms.Compose([transforms.ToTensor(), transforms.Normalize((0.5, 0.5, 0.5), (0.5, 0.5, 0.5))])"
   ]
  },
  {
   "cell_type": "code",
   "execution_count": 41,
   "metadata": {},
   "outputs": [],
   "source": [
    "trainset = datasets.MNIST(root = './data', download = True, train = True, transform = transform)"
   ]
  },
  {
   "cell_type": "code",
   "execution_count": 11,
   "metadata": {},
   "outputs": [
    {
     "data": {
      "text/plain": [
       "torch.Size([64, 1, 28, 28])"
      ]
     },
     "execution_count": 11,
     "metadata": {},
     "output_type": "execute_result"
    }
   ],
   "source": [
    "trainloader = torch.utils.data.DataLoader(trainset, batch_size = 64, shuffle = True)"
   ]
  },
  {
   "cell_type": "code",
   "execution_count": 14,
   "metadata": {},
   "outputs": [],
   "source": [
    "model = nn.Sequential(nn.Linear(784, 128),\n",
    "                      nn.ReLU(),\n",
    "                      nn.Linear(128, 64),\n",
    "                      nn.ReLU(),\n",
    "                      nn.Linear(64, 10),\n",
    "                      nn.LogSoftmax(dim = 1))  #define the model\n",
    "\n",
    "criterion = nn.NLLLoss()\n",
    "optimizer = optim.SGD(model.parameters(), lr=0.01)"
   ]
  },
  {
   "cell_type": "code",
   "execution_count": 16,
   "metadata": {},
   "outputs": [
    {
     "name": "stdout",
     "output_type": "stream",
     "text": [
      "Training loss: 1.0386095260823969\n",
      "Training loss: 0.3809133465213181\n",
      "Training loss: 0.32221768392937017\n",
      "Training loss: 0.2906380556920952\n",
      "Training loss: 0.2662835619025139\n",
      "Training loss: 0.24450486555282494\n",
      "Training loss: 0.2244886434329217\n",
      "Training loss: 0.2068652132911278\n",
      "Training loss: 0.1909526328860061\n",
      "Training loss: 0.1771284985278588\n"
     ]
    }
   ],
   "source": [
    "epoch = 10\n",
    "for count in range(epoch):\n",
    "    running_loss = 0\n",
    "    for images, label in trainloader:\n",
    "        images = images.view(images.shape[0], -1)\n",
    "        \n",
    "        logps = model.forward(images)\n",
    "        loss = criterion(logps, label)\n",
    "        \n",
    "        loss.backward()\n",
    "        optimizer.step()\n",
    "        optimizer.zero_grad()\n",
    "        \n",
    "        running_loss += loss.item()\n",
    "        \n",
    "    else:\n",
    "        print(f\"Training loss: {running_loss / len(trainloader)}\")"
   ]
  },
  {
   "cell_type": "code",
   "execution_count": 43,
   "metadata": {},
   "outputs": [],
   "source": [
    "testset = datasets.MNIST(root = './data', download = True, train = False, transform = transform)\n",
    "testloader = torch.utils.data.DataLoader(trainset, batch_size = 64, shuffle = True)"
   ]
  },
  {
   "cell_type": "code",
   "execution_count": 44,
   "metadata": {},
   "outputs": [
    {
     "name": "stdout",
     "output_type": "stream",
     "text": [
      "Index: 0, Label: 1\n",
      "Index: 1, Label: 0\n",
      "Index: 2, Label: 1\n",
      "Index: 3, Label: 6\n",
      "Index: 4, Label: 0\n",
      "Index: 5, Label: 9\n",
      "Index: 6, Label: 7\n",
      "Index: 7, Label: 5\n",
      "Index: 8, Label: 3\n",
      "Index: 9, Label: 2\n",
      "Index: 10, Label: 6\n",
      "Index: 11, Label: 4\n",
      "Index: 12, Label: 1\n",
      "Index: 13, Label: 6\n",
      "Index: 14, Label: 3\n",
      "Index: 15, Label: 5\n",
      "Index: 16, Label: 1\n",
      "Index: 17, Label: 3\n",
      "Index: 18, Label: 4\n",
      "Index: 19, Label: 6\n",
      "Index: 20, Label: 5\n",
      "Index: 21, Label: 7\n",
      "Index: 22, Label: 0\n",
      "Index: 23, Label: 9\n",
      "Index: 24, Label: 1\n",
      "Index: 25, Label: 8\n",
      "Index: 26, Label: 8\n",
      "Index: 27, Label: 3\n",
      "Index: 28, Label: 3\n",
      "Index: 29, Label: 9\n",
      "Index: 30, Label: 0\n",
      "Index: 31, Label: 6\n",
      "Index: 32, Label: 9\n",
      "Index: 33, Label: 0\n",
      "Index: 34, Label: 3\n",
      "Index: 35, Label: 0\n",
      "Index: 36, Label: 8\n",
      "Index: 37, Label: 7\n",
      "Index: 38, Label: 3\n",
      "Index: 39, Label: 0\n",
      "Index: 40, Label: 7\n",
      "Index: 41, Label: 6\n",
      "Index: 42, Label: 0\n",
      "Index: 43, Label: 7\n",
      "Index: 44, Label: 6\n",
      "Index: 45, Label: 0\n",
      "Index: 46, Label: 3\n",
      "Index: 47, Label: 1\n",
      "Index: 48, Label: 5\n",
      "Index: 49, Label: 7\n",
      "Index: 50, Label: 9\n",
      "Index: 51, Label: 9\n",
      "Index: 52, Label: 8\n",
      "Index: 53, Label: 4\n",
      "Index: 54, Label: 2\n",
      "Index: 55, Label: 7\n",
      "Index: 56, Label: 4\n",
      "Index: 57, Label: 4\n",
      "Index: 58, Label: 5\n",
      "Index: 59, Label: 0\n",
      "Index: 60, Label: 1\n",
      "Index: 61, Label: 6\n",
      "Index: 62, Label: 4\n",
      "Index: 63, Label: 2\n"
     ]
    }
   ],
   "source": [
    "imgs, labl = next(iter(testloader))\n",
    "\n",
    "for index, ground_truth in zip(range(64), labl):\n",
    "    print(f\"Index: {index}, Label: {ground_truth}\")"
   ]
  },
  {
   "cell_type": "code",
   "execution_count": 45,
   "metadata": {},
   "outputs": [
    {
     "name": "stdout",
     "output_type": "stream",
     "text": [
      "The image is actually  5\n",
      "Model prediction: 5, probability: 0.9955824017524719\n"
     ]
    }
   ],
   "source": [
    "index = 15\n",
    "with torch.no_grad():\n",
    "    print(\"The image is actually \", labl[index].item())\n",
    "    prediction = model.forward(imgs[index].view(1, -1))\n",
    "    \n",
    "    ps = F.softmax(prediction, dim = 1)\n",
    "    \n",
    "    maximum = torch.max(ps)\n",
    "    print(f\"Model prediction: {(ps == maximum).nonzero()[0][1].item()}, probability: {maximum}\")"
   ]
  },
  {
   "cell_type": "code",
   "execution_count": null,
   "metadata": {},
   "outputs": [],
   "source": []
  }
 ],
 "metadata": {
  "kernelspec": {
   "display_name": "Python 3",
   "language": "python",
   "name": "python3"
  },
  "language_info": {
   "codemirror_mode": {
    "name": "ipython",
    "version": 3
   },
   "file_extension": ".py",
   "mimetype": "text/x-python",
   "name": "python",
   "nbconvert_exporter": "python",
   "pygments_lexer": "ipython3",
   "version": "3.7.0"
  }
 },
 "nbformat": 4,
 "nbformat_minor": 2
}
